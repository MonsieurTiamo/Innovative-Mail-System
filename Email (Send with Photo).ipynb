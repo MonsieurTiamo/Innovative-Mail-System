{
 "cells": [
  {
   "cell_type": "code",
   "execution_count": 89,
   "id": "d42afea4-9212-4f23-91cf-b9fd8e98b8c8",
   "metadata": {},
   "outputs": [],
   "source": [
    "import pandas as pd\n",
    "import smtplib\n",
    "from email.mime.multipart import MIMEMultipart\n",
    "from email.mime.text import MIMEText\n",
    "from email.mime.image import MIMEImage\n",
    "from email.utils import formataddr\n",
    "import random\n",
    "import time"
   ]
  },
  {
   "cell_type": "code",
   "execution_count": 91,
   "id": "a686b105-5385-4503-81ff-07822fa8ddca",
   "metadata": {},
   "outputs": [],
   "source": [
    "SMTP_SERVER = \"smtp.gmail.com\"\n",
    "SMTP_PORT = 587\n",
    "SENDER_NAME = \"xxx\"\n",
    "SENDER_EMAIL = \"xxx\"\n",
    "SENDER_PASSWORD = \"xxx\""
   ]
  },
  {
   "cell_type": "code",
   "execution_count": null,
   "id": "bea31734",
   "metadata": {},
   "outputs": [],
   "source": [
    "df = pd.read_excel(r\"xxx.xlsx\")\n",
    "\n",
    "df_clean = df.dropna(\n",
    "   subset=[\"nickname\", \"receiver email\"]  \n",
    ")\n",
    "\n",
    "df_clean = df_clean.applymap(\n",
    "   lambda x: x.strip() if isinstance(x, str) else x  \n",
    ")"
   ]
  },
  {
   "cell_type": "code",
   "execution_count": 95,
   "id": "de0fe2ac-9c1d-42d3-9d96-145b939211df",
   "metadata": {},
   "outputs": [],
   "source": [
    "EMAIL_TEMPLATE = \"\"\"\n",
    "Hi {nickname},<br><br>\n",
    "\n",
    "I love your content about doggie!  We’re looking for passionate pet creators to join our TikTok Shop program!<br>\n",
    "You can pick a plush dog toy from our shop to start promoting it. If we work well together, we’ll send you the full set for free!<br><br>\n",
    " \n",
    "Here’s why you’ll love working with us:<br> \n",
    "✅ High commissions on every sale<br> \n",
    "✅ Over 2,000 five-star reviews on Amazon<br>\n",
    "✅ Consistently ranks in the Top 5 of Amazon’s \"Dog Mental Stimulation Toys\" category<br>\n",
    "✅ Fun and engaging pet products your audience will love<br> \n",
    "✅ Long-term brand partnership opportunities<br><br>\n",
    "\n",
    "<strong>Note:</strong><br>\n",
    "<div style=\"margin-left:15px;\">\n",
    "1. Shop Name: <em>Pet Enrichment Toys</em><br>\n",
    "2. Product Link: \n",
    "<a href=\"https:/xxx\">View Collection</a><br>\n",
    "3. Attachments: 3 high-res product images\n",
    "</div><br>\n",
    "\n",
    "{product_images}<br><br>\n",
    "\n",
    "Looking forward to your early reply!<br><br>\n",
    "\n",
    "Sincerely,<br>\n",
    "MoonBack Team\n",
    "\"\"\""
   ]
  },
  {
   "cell_type": "code",
   "execution_count": null,
   "id": "71a577bb",
   "metadata": {},
   "outputs": [],
   "source": [
    "def send_email():\n",
    "    try:\n",
    "       \n",
    "        server = smtplib.SMTP(SMTP_SERVER, SMTP_PORT) \n",
    "        server.ehlo()       \n",
    "        server.starttls()    \n",
    "        server.login(SENDER_EMAIL, SENDER_PASSWORD)  \n",
    "\n",
    "        for _, row in df_clean.iterrows():  ）\n",
    "            nickname = row[\"nickname\"]      \n",
    "            receiver_email = row[\"receiver emial\"] \n",
    "\n",
    "            msg = MIMEMultipart('related')  \n",
    "            \n",
    "            product_images = \"\"\n",
    "            for i in range(3):  \n",
    "                image_path = f\"xxx\\image_{i+1}.jpg\"\n",
    "                try:\n",
    "                    \n",
    "                    with open(image_path, 'rb') as f:\n",
    "                        img_data = f.read()\n",
    "                    img = MIMEImage(img_data, _subtype='jpeg')  \n",
    "                    img.add_header('Content-ID', f'<image{i+1}>')  \n",
    "                    msg.attach(img)  \n",
    "                    \n",
    "                    product_images += f'<img src=\"cid:image{i+1}\" alt=\"Product Image {i+1}\" style=\"max-width:600px;\"><br>'\n",
    "                except Exception as e:\n",
    "                    print(f\"❌ Image failure：{image_path}，error：{str(e)}\")\n",
    "\n",
    "            \n",
    "            email_body = EMAIL_TEMPLATE.format(nickname=nickname, product_images=product_images)\n",
    "            msg.attach(MIMEText(email_body, 'html', 'utf-8')) \n",
    "\n",
    "          \n",
    "            msg[\"From\"] = formataddr((SENDER_NAME, SENDER_EMAIL)) \n",
    "            msg[\"To\"] = formataddr((nickname, receiver_email))    \n",
    "            msg[\"Subject\"] = f\"Invitation for {nickname} to Join Our TikTok Shop Program 🐾\"  \n",
    "\n",
    "            try:\n",
    "                server.sendmail(SENDER_EMAIL, [receiver_email], msg.as_string())  \n",
    "                print(f\"✅ Send Successfully：{nickname} <{receiver_email}>\")\n",
    "                sleep_time = 12 + random.randint(0, 3)  \n",
    "                print(f\"Wait for {sleep_time} seconds...\")\n",
    "                time.sleep(sleep_time)\n",
    "            except Exception as e:\n",
    "                print(f\"❌ Send Failure：{receiver_email}，error：{str(e)}\")\n",
    "\n",
    "        \n",
    "        server.quit()  \n",
    "    except Exception as e:\n",
    "        print(f\"⚠️ Server connection failure：{str(e)}\")  "
   ]
  },
  {
   "cell_type": "code",
   "execution_count": null,
   "id": "e6dcc956-966c-4af5-a897-2b493f556b60",
   "metadata": {},
   "outputs": [],
   "source": [
    "if __name__ == \"__main__\":\n",
    "    send_email()"
   ]
  }
 ],
 "metadata": {
  "kernelspec": {
   "display_name": "Python 3 (ipykernel)",
   "language": "python",
   "name": "python3"
  },
  "language_info": {
   "codemirror_mode": {
    "name": "ipython",
    "version": 3
   },
   "file_extension": ".py",
   "mimetype": "text/x-python",
   "name": "python",
   "nbconvert_exporter": "python",
   "pygments_lexer": "ipython3",
   "version": "3.11.7"
  }
 },
 "nbformat": 4,
 "nbformat_minor": 5
}
