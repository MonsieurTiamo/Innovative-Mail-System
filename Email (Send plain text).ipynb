{
 "cells": [
  {
   "cell_type": "code",
   "execution_count": 3,
   "id": "d42afea4-9212-4f23-91cf-b9fd8e98b8c8",
   "metadata": {},
   "outputs": [],
   "source": [
    "import pandas as pd\n",
    "import smtplib\n",
    "import time\n",
    "import random\n",
    "from email.mime.text import MIMEText\n",
    "from email.utils import formataddr"
   ]
  },
  {
   "cell_type": "code",
   "execution_count": 5,
   "id": "a686b105-5385-4503-81ff-07822fa8ddca",
   "metadata": {},
   "outputs": [],
   "source": [
    "SMTP_SERVER = \"smtp.gmail.com\"\n",
    "SMTP_PORT = 587\n",
    "SENDER_NAME = \"xxx\"\n",
    "SENDER_EMAIL = \"xxx\"\n",
    "SENDER_PASSWORD = \"xxx\""
   ]
  },
  {
   "cell_type": "code",
   "execution_count": null,
   "id": "e4e538ba",
   "metadata": {},
   "outputs": [],
   "source": [
    "df = pd.read_excel(r\"xxx\")\n",
    "df_clean = df.dropna(subset=[\"xxx\", \"xxx\"]).applymap(\n",
    "    lambda x: x.strip() if isinstance(x, str) else x\n",
    ")"
   ]
  },
  {
   "cell_type": "code",
   "execution_count": 9,
   "id": "de0fe2ac-9c1d-42d3-9d96-145b939211df",
   "metadata": {},
   "outputs": [],
   "source": [
    "EMAIL_TEMPLATE = \"\"\"Hi {nickname},\n",
    "Love your content and your dog! 🐶💕 We’re inviting pet creators to our TikTok Shop program.\n",
    "Pick a plush dog toy from our store to start. If we work well together, we’ll send you the full set for free! 🎁🐾\n",
    "Excited to collaborate! Let me know if you're in. 😊\"\"\""
   ]
  },
  {
   "cell_type": "code",
   "execution_count": 11,
   "id": "b54ad7d6-ee72-4af6-a9cb-e929c4aea727",
   "metadata": {},
   "outputs": [],
   "source": [
    "def send_email():\n",
    "    try:\n",
    "        \n",
    "        server = smtplib.SMTP(SMTP_SERVER, SMTP_PORT)\n",
    "        server.ehlo()\n",
    "        server.starttls()  \n",
    "        server.login(SENDER_EMAIL, SENDER_PASSWORD)\n",
    "        \n",
    "        for _, row in df_clean.iterrows():\n",
    "            nickname = row[\"nick name\"]\n",
    "            receiver_email = row[\"reveiver email\"]\n",
    "            \n",
    "            msg = MIMEText(EMAIL_TEMPLATE.format(nickname=nickname), \"plain\", \"utf-8\")\n",
    "            msg[\"From\"] = formataddr((SENDER_NAME, SENDER_EMAIL))\n",
    "            msg[\"To\"] = formataddr((nickname, receiver_email))\n",
    "            msg[\"Subject\"] = \"Join Our TikTok Shop Program 🐾\"\n",
    "            \n",
    "            try:\n",
    "                server.sendmail(SENDER_EMAIL, [receiver_email], msg.as_string())\n",
    "                print(f\"✅ Send Sucessfully：{nickname} <{receiver_email}>\")\n",
    "                sleep_time = 5 + random.randint(0, 3)\n",
    "                print(f\"Wait for {sleep_time} seconds...\")\n",
    "                time.sleep(sleep_time)\n",
    "                \n",
    "            except Exception as e:\n",
    "                print(f\"❌ Send failure：{receiver_email}，error：{str(e)}\")\n",
    "        \n",
    "        server.quit()\n",
    "    except Exception as e:\n",
    "        print(f\"⚠️ Server connection failure：{str(e)}\")"
   ]
  },
  {
   "cell_type": "code",
   "execution_count": null,
   "id": "6f40af1d",
   "metadata": {},
   "outputs": [],
   "source": [
    "if __name__ == \"__main__\":\n",
    "    send_email()"
   ]
  }
 ],
 "metadata": {
  "kernelspec": {
   "display_name": "Python 3 (ipykernel)",
   "language": "python",
   "name": "python3"
  },
  "language_info": {
   "codemirror_mode": {
    "name": "ipython",
    "version": 3
   },
   "file_extension": ".py",
   "mimetype": "text/x-python",
   "name": "python",
   "nbconvert_exporter": "python",
   "pygments_lexer": "ipython3",
   "version": "3.11.7"
  }
 },
 "nbformat": 4,
 "nbformat_minor": 5
}
